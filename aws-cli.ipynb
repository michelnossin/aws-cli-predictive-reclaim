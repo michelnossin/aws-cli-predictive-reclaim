{
 "cells": [
  {
   "cell_type": "markdown",
   "metadata": {},
   "source": [
    "### This personal notebook describes notes about aws and cli\n",
    "In this sample we will build in central (frankfurt) region our pred-reclaim api server."
   ]
  },
  {
   "cell_type": "markdown",
   "metadata": {},
   "source": [
    "#### Install CLI\n",
    "\n",
    "```\n",
    "Windows: https://s3.amazonaws.com/aws-cli/AWSCLI64.msi\n",
    "\n",
    "Linux or mac requires pip to install, which requires setuptools itself. If you have pip just install the awscli)\n",
    "\n",
    "SETUPTOOLS:\n",
    "wget https://pypi.python.org/packages/source/s/setuptools/\n",
    "setuptools-7.0.tar.gz\n",
    "tar xvf setuptools-7.0.tar.gz\n",
    "cd setuptools-7.0\n",
    "python setup.py install\n",
    "\n",
    "PIP:\n",
    "wget https://bootstrap.pypa.io/get-pip.py\n",
    "python get-pip.py\n",
    "\n",
    "AWSCLI\n",
    "\n",
    "pip install awscli\n",
    "\n",
    "TEST:\n",
    "aws -version\n",
    "\n",
    "\n",
    "\n",
    "```\n",
    "    \n",
    "    "
   ]
  },
  {
   "cell_type": "markdown",
   "metadata": {},
   "source": [
    "### Access and security\n",
    "\n",
    "As we use an existing organisation for now we will not create any users and groups, maybe roles later for you api\n",
    "\n",
    "```\n",
    "Configure:\n",
    "\n",
    "Start configure screen, if you have multiple users using aws cli \n",
    ", use different profiles.\n",
    "\n",
    "root@master:/setuptools-7.0# aws configure (--profile <somename>)\n",
    "AWS Access Key ID [None]: <secret>\n",
    "AWS Secret Access Key [None]: <secret>\n",
    "Default region name [None]: eu-central-1 (or eu-west-1)\n",
    "Default output format [None]: table\n",
    "\n",
    "users:\n",
    "aws iam list-users\n",
    "aws iam create-user --user-name <user>\n",
    "aws iam create-login-profile --user-name <user> --password <pwd>\n",
    "aws iam create-access-key --user <username>\n",
    "\n",
    "groups:\n",
    "aws iam create-group --group-name <grp>\n",
    "aws iam add-user-to-group --user-name <user> --group-name <user>\n",
    "\n",
    "profiles:\n",
    "create this file:\n",
    "{\n",
    "\"Version\": \"2012-10-17\",\n",
    "\"Statement\": [\n",
    "      {\n",
    "\"Effect\": \"Allow\",\n",
    "\"Action\": \"*\",\n",
    "\"Resource\": \"*\"\n",
    "} ]\n",
    "}\n",
    "\n",
    "Grant to user (can also be group):\n",
    "aws iam put-group-policy --user-name <user> \\\n",
    "--policy-name <all privs for your your org> \\\n",
    "--policy-document file:///tmp/<your file>.json\n",
    "\n",
    "``` "
   ]
  },
  {
   "cell_type": "markdown",
   "metadata": {},
   "source": [
    "### EC2 instances\n",
    "\n",
    "#### First some general notes\n",
    "\n",
    "```\n",
    "ec2 is container running ami images:\n",
    "\n",
    "two types ami:\n",
    "Instance store-backed instance via S# (slow)\n",
    "ebs (elastic block store), shared drive, quick portable, peristant storage, also can handle 16tb instead of 10gb.  but does cost some extra\n",
    "\n",
    "types:\n",
    "memory, computer, storage or general optimised, or lastly gpu for graphical/machine learning\n",
    "\n",
    "pricing:\n",
    "on-demand , per hour, no cost when not using but higher price\n",
    "reserved: cheaper on the whole, but you do pay when not using. yu can pay upfront (partly) making it cheaper.\n",
    "spot: bid on capacity, no guarantee at all.\n",
    "\n",
    "ebs features:\n",
    "snapshot stored on s3 for backup and resizing , HA (replication same avail. zone), encryption optional use KMS key service\n",
    "\n",
    "ebs volumes:\n",
    "general ssd, providioned iops ssd (quick and expensive, for io intensive apps like db's and hadoop. or magnetic (cheap, backup etc)\n",
    "\n",
    "``` "
   ]
  },
  {
   "cell_type": "markdown",
   "metadata": {},
   "source": [
    "### Install server\n",
    "\n",
    "``` \n",
    "in our keys we will use dil-pred-reclaim-key-pair as name\n",
    "\n",
    "public key:\n",
    "aws ec2 create-key-pair --key-name dil-pred-reclaim-key-pair --query 'KeyMaterial' --output text > dil-pred-reclaim-key-pair.pem\n",
    " \n",
    "chmod 400 dil-pred-reclaim-key-pair.pem\n",
    "\n",
    "security group:\n",
    "aws ec2 create-security-group --group-name sg_dil-pred-reclaim \\\n",
    " --description \"Security group predictive reclaim api server\"\n",
    "\n",
    "Rules:\n",
    "aws ec2 authorize-security-group-ingress \\\n",
    "--group-name sg_dil-pred-reclaim \\\n",
    "--protocol tcp --port 22 --cidr 0.0.0.0/0\n",
    "\n",
    "run (aws linux):\n",
    "aws ec2 run-instances --image-id ami-b968bad6 \\\n",
    " --count 1 --instance-type t2.small \\\n",
    " --security-groups sg_dil-pred-reclaim \\\n",
    " --key-name dil-pred-reclaim-key-pair \\\n",
    " --tag-specifications 'ResourceType=instance,Tags=[{Key=Name,Value=dil-pred-reclaim}]'\n",
    "\n",
    "test :\n",
    "ssh -i dil-pred-reclaim-key-pair.pem ec2-user@<PUBLIC ip>\n",
    "\n",
    "how to access an ebs volume you created earlier:\n",
    "sudo df -h\n",
    "sudo fdisk -l. (see /dev/<xx> disk not mounted and seen using df\n",
    "sudo mkfs -t ext4 /dev/<xx>\n",
    "sudo mkdir /somedir\n",
    "sudo mount /dev/<xx> /somedir\n",
    "<edit fstab to make sure it mounts after reboot>\n",
    "\n",
    "Downside: you cant control ip, unless you create an elastic ip and attach it. Its required if you want to control ip's accessing your server\n",
    "using security groups\n",
    "``` "
   ]
  },
  {
   "cell_type": "markdown",
   "metadata": {
    "collapsed": true
   },
   "source": [
    "### EBS volumes"
   ]
  },
  {
   "cell_type": "markdown",
   "metadata": {},
   "source": [
    "```\n",
    "use types: gp2, io1, standard (magnetic) :\n",
    "\n",
    "aws ec2 create-volume \\\n",
    "--size 5 --region eu-central-1 --availability-zone eu-central-1a \\\n",
    "--volume-type gp2\n",
    "\n",
    "aws ec2 attach-volume \\\n",
    "--volume-id <vol-xxx> \\\n",
    "--instance-id <i-xxx> \\\n",
    "--device /dev/sdg\n",
    "\n",
    "unmount:\n",
    "aws ec2 detach-volume \\\n",
    "--volume-id <vol-xxx>\n",
    "\n",
    "aws ec2 delete-volume \\\n",
    "--volume-id <vol-xxx>\n",
    "\n",
    "Ebs is replicated, but only in the same avail.zon.\n",
    "Use snapshots to make backups to other zone.\n",
    "```"
   ]
  },
  {
   "cell_type": "markdown",
   "metadata": {},
   "source": [
    "### Virtual Private Cloud (VPC)"
   ]
  },
  {
   "cell_type": "markdown",
   "metadata": {},
   "source": [
    "```\n",
    "ITS FREE\n",
    "\n",
    "In vpc you can create subnets with own policies and routing, seperate from the security groups. Also extra layer: Acl access control list (per subnet) for extra control. connect your own datacentre using virtual private gateway, and connect it using the datacentre gateway.\n",
    "\n",
    "subnet: range of ip's . two types: public and private subnet (determines internet reachable or not). \n",
    "\n",
    "example VPC uses CIDR 10.0.0.0./16 , /16 means 65k addresses, 10.0.0.0 - 10.0.255.255 . Create subnet 10.0.1.0/24 for webserver (public) and 10.0.5.0/24 for databases (private) etc etc (/24 is 256 ip's ).\n",
    "\n",
    "When creating default vpc: /16 (65k) ip's . az's in default region. a public and private subnet. internet gateway (router between two subnets) . some routetables, security groups and acl's so internet can be used. NOTE: ach instance by default is using the default vpc!\n",
    "\n",
    "network acl: rules with a number (small is highest prio) allowing or denying access. FInishing with a * to block anything not in a rule.\n",
    "\n",
    "routing table: diect traffix to from subnet. main route table is default. and it allows traffic inside the vpc.\n",
    "\n",
    "vpc endpoint: connect vpc to other services (virtual devices, managed by aws)\n",
    "\n",
    "internet gateway: provide internet connectivity. just add route in routetable of subnet to it and its ready. It also nat's private ip's to public or elastic ip's . the instances themselves dont know the public ip's .\n",
    "\n",
    "NAT instance: Without internet gatway you can use this nat in public subnet, and route instance in private subnet to this public subnet, which routes to internet (via internet gateway)\n",
    "\n",
    "DNS Domain name servers. Domain name\n",
    "```"
   ]
  },
  {
   "cell_type": "markdown",
   "metadata": {},
   "source": [
    "### VPC creation"
   ]
  },
  {
   "cell_type": "markdown",
   "metadata": {},
   "source": [
    "### Scenarios"
   ]
  },
  {
   "cell_type": "markdown",
   "metadata": {},
   "source": [
    "```\n",
    "scenarios:\n",
    "1 1 single public subnet . Most simple, all connected to internet\n",
    "2 2 subnet, 1 publiv 1 private (NAT). Most common. web servers in public, db in private. WIth nat in public for outgoing traffic from private subnet\n",
    "3 like nr 2 but also vpn access (virtual private gateway). Used to extend on premise datacentre to cloud !!! \n",
    "4 only private subnet with vpc . Only internal connections can be made  np internet gateway \n",
    "\n",
    "Choice: 3. As we need on premise access, but also expect other clients like klm to connect. But also we need outgoing access as we get lots of internet data (think IOT, flighttracker etc). VPN costs 5 cents per (partial) hour, also for NAT server Extra costs per GB. \n",
    "```\n"
   ]
  },
  {
   "cell_type": "markdown",
   "metadata": {},
   "source": [
    "### Requirements"
   ]
  },
  {
   "cell_type": "markdown",
   "metadata": {},
   "source": [
    "```\n",
    "requirements:\n",
    "\n",
    "VPC SDH-EU-CENTRAL-PROD-1 192.168.0.0/16  \n",
    "questions:\n",
    "- 65k ip's to much? We need no-sql db's, sql-db's , streaming clusters , bigdata cluster. \n",
    "- Use central/frankfurt or ireland? Is USA allowed, for example for second Avail. zone?\n",
    "\n",
    "SDH-EU-CENTRAL-PROD-WEB 192.168.1.0/24 (255 ip's with internet access)\n",
    ", in zone EU-CENTRAL-1a\n",
    "\n",
    "SHD-EU-CENTRAL-PROD-DB 192.168.5.0/24 (255 ip's isolated from internet),\n",
    "in avail. zoine EU-CENTRAL-1b\n",
    "\n",
    "NAT server in public subnet to have outgoing internet access via internet gateway\n",
    "\n",
    "How to handle access to S3 etc. For example to ingest flighttracker data to S3 a api in public subnet needs it. So Spark in the private subnet can process it. \n",
    "questions:\n",
    "- full access or custom?\n",
    "\n",
    "TODO Avail. zones. Boths are in EU-CENTRAL-1a . We need duplicate environment in EU-central-1b? Not sure how this is setup best\n",
    "\n",
    "Tenancy : dedicated (extra costs but safer)\n",
    "```"
   ]
  },
  {
   "cell_type": "markdown",
   "metadata": {},
   "source": [
    "### Manual vpc creation"
   ]
  },
  {
   "cell_type": "markdown",
   "metadata": {},
   "source": [
    "```\n",
    "VPC wizard (from vpc dashboard)\n",
    "- Click option 3 (CANT BE DONE WITHOUT VPN GATEWAY INFO)\n",
    "So we pick 2. For the nat server we use micro t2, with dil-keypair.\n",
    "We should create seperate keys first.\n",
    "\n",
    "Questions:\n",
    "- Failed with selecting dedicated hardware, but ok when default. Problem?\n",
    "- Ec2 instance created, but does not seem to be used as NAT server. As \n",
    "NAT section shows no NAT server. Meaning private subnet instance cant use internet as NAT is missing. Delete ec2 instance and create NAT instance manually?\n",
    "\n",
    "```\n",
    "    "
   ]
  },
  {
   "cell_type": "markdown",
   "metadata": {},
   "source": [
    "### Aws cli vpc"
   ]
  },
  {
   "cell_type": "markdown",
   "metadata": {},
   "source": [
    "```\n",
    "Create public and private subnet based on output:\n",
    "use --dry-run to test first.\n",
    "\n",
    "aws ec2 create-vpc --cidr-block 192.168.0.0/16 \\\n",
    "--instance-tenancy dedicated \n",
    "aws ec2 create-tags --resources <vpc*> --tags Key=Name,Value=SDH-EU-CENTRAL-PROD-1\n",
    "aws ec2 create-subnet --vpc-id <vpc-*> --cidr-block 192.168.1.0/24\n",
    "aws ec2 create-tags --resources <subnet*> --tags Key=Name,Value=SDH-EU-CENTRAL-PROD-WEB\n",
    "aws ec2 create-subnet --vpc-id <vpc-*> --cidr-block 192.168.5.0/24\n",
    "aws ec2 create-tags --resources <subnet*> --tags Key=Name,Value=SDH-EU-CENTRAL-PROD-DB\n",
    "aws ec2 create-internet-gateway\n",
    "aws ec2 attach-internet-gateway --internet-gateway-id <igw*> --vpc-id <vpc-*> \n",
    "aws ec2 create-route --route-table-id <rtb*> --destination-cidr-block 0.0.0.0/0 --gateway-id <igw*>\n",
    "aws ec2 associate-route-table --route-table-id <rtb*> --subnet-id <subnet-public*>\n",
    "\n",
    "```"
   ]
  },
  {
   "cell_type": "markdown",
   "metadata": {},
   "source": [
    "Test:\n",
    "aws ec2 run-instances --image-id ami-9abea4fb --count 1 --instance-type t2.micro --key-name <key*> --security-group-ids <sg-*> --subnet-id <subnet*> --associate-public-ip-address"
   ]
  }
 ],
 "metadata": {
  "kernelspec": {
   "display_name": "Python 3",
   "language": "python",
   "name": "python3"
  },
  "language_info": {
   "codemirror_mode": {
    "name": "ipython",
    "version": 3
   },
   "file_extension": ".py",
   "mimetype": "text/x-python",
   "name": "python",
   "nbconvert_exporter": "python",
   "pygments_lexer": "ipython3",
   "version": "3.6.0"
  }
 },
 "nbformat": 4,
 "nbformat_minor": 2
}
